{
  "nbformat": 4,
  "nbformat_minor": 0,
  "metadata": {
    "colab": {
      "provenance": [],
      "authorship_tag": "ABX9TyOwS0JG3sRrpG7uslQaF1T7",
      "include_colab_link": true
    },
    "kernelspec": {
      "name": "python3",
      "display_name": "Python 3"
    },
    "language_info": {
      "name": "python"
    }
  },
  "cells": [
    {
      "cell_type": "markdown",
      "metadata": {
        "id": "view-in-github",
        "colab_type": "text"
      },
      "source": [
        "<a href=\"https://colab.research.google.com/github/awhitehouse1/project_voting/blob/main/voting_final_paper.ipynb\" target=\"_parent\"><img src=\"https://colab.research.google.com/assets/colab-badge.svg\" alt=\"Open In Colab\"/></a>"
      ]
    },
    {
      "cell_type": "markdown",
      "source": [
        "#Voting Project\n",
        "\n",
        "##Eleanor Byrd, Kian Putnam, Ashley Whitehouse"
      ],
      "metadata": {
        "id": "_MoY_nTXRZ0i"
      }
    },
    {
      "cell_type": "markdown",
      "source": [
        "###Summary\n",
        "\n",
        "\n",
        "The focus of this project was to build a model in order to predict the outcome of the 2024 Presidential election in Virginia. Our methods involved compiling data on each county in Virginia, then running a linear regression in order to predict the number of votes for either the Democrat or Republican party in each county. The data used was historic voting data for each county from the 2016 and 2020 elections, combined with data from the National Historical Geographic Information System (NHGIS). The NHGIS data we used for our model was population numbers for each county in Virginia from 2016-2020, detailing the number of people in that county of a given sex within a certain age range, and also the population of people in that county within a certain income range. The variables we used were male age 18 to 29, male age 30 to 49, male age 50 to 64, male over 65, female age 18 to 29, female age 30 to 49, female age 50 to 64, female over 65, income under 30000, income 30000-49999, income 50000-99999, and income over 100000. Two linear models were built, one based on the 2016 historic election data and one based on the 2020 historic election data. The 2016 model had an $R^2$ on the test set of 0.9137 and Root Mean Squared Error (RMSE) of 3929.4204. The 2020 model had an $R^2$ on the test set of 0.9089 and Root Mean Squared Error (RMSE) of 4022.6981. These models were then bootstrapped, with the 2016 model having an average $R^2$ of 0.9097 and the 2020 model having an average $R^2$ of 0.9194. Thus, overall the NHGIS data did a relatively similar job at predicting the number of Democrat/Republican votes in 2016 and 2020, with the bootstrapped 2020 model performing only slightly better. Thus, the variables outlined above do a relatively good job at predicting Democrat and Republican voting at the county level."
      ],
      "metadata": {
        "id": "rHzjroXDRlbJ"
      }
    },
    {
      "cell_type": "markdown",
      "source": [
        "###Data\n",
        "\n",
        "There were several data sources that were cleaned and used for this project. All cleaning can be found in the cleaning_votes.ipynb file.\n",
        "\n",
        "First was the historic Voting Data for counties in Virginia (clean_vdf.csv). This data  When cleaning this data, all of the observations for third party votes were dropped, since US politics are dominated by the two-party system. Furthermore, in order to combine this data neatly with the NHGIS data, the county names were cleaned by dropping spaces.\n",
        "\n",
        "Next, we incorporated the NHGIS County data for 2016 to 2020. This data provides population summary statistics for a variety of topics for every county in the US. For use in this project, we selected only the Virginia counties, and we also selected the age and income data. All numeric variables were converted to integer values, and the county names were made to match the other datasets by dropping the spaces and converting the strings to all uppercase. The age and income variables were cleaned by combining the different age or income subgroups into larger categories for simpler analysis.\n",
        "\n",
        "\n",
        "####Description of variables used in the final model:\n",
        "\n",
        "- M_18_to_29 \\\n",
        "  This variable is the number of males between ages 18 and 29 in a given county. It is the sum of original variables 'AMPKE007', 'AMPKE008','AMPKE009', 'AMPKE010', and 'AMPKE011'.\n",
        "\n",
        "- M_30_to_49 \\\n",
        "  This variable is the number of males between ages 30 and 49 in a given county. It is the sum of original variables 'AMPKE012', 'AMPKE013','AMPKE014', and 'AMPKE015'.\n",
        "\n",
        "- M_50_to_64 \\\n",
        "  This variable is the number of males between ages 50 and 64 in a given county. It is the sum of original variables 'AMPKE016', 'AMPKE017', 'AMPKE018', and 'AMPKE019'.\n",
        "\n",
        "- M_65_plus \\\n",
        "  This variable is the number of males age 65 and over in a given county. It is the sum of original variables 'AMPKE020', 'AMPKE021', 'AMPKE022', 'AMPKE023', and 'AMPKE024'.\n",
        "\n",
        "- F_18_to_29 \\\n",
        "  This variable is the number of females between ages 18 and 29 in a given county. It is the sum of original variables 'AMPKE031', 'AMPKE032', 'AMPKE033', 'AMPKE034', and 'AMPKE035'.\n",
        "\n",
        "- F_30_to_49 \\\n",
        "  This variable is the number of females betweeen ages 30 and 39 in a given county. It is the sum of original variables 'AMPKE036', 'AMPKE037', 'AMPKE038', and 'AMPKE039'.\n",
        "\n",
        "- F_50_to_64 \\\n",
        "  This variable is the number of females between ages 50 and 64 in a given county. It is the sum of original variables 'AMPKE040', 'AMPKE041', 'AMPKE042', and 'AMPKE043'.\n",
        "  \n",
        "- F_65_plus \\\n",
        "  This variable is the number of females over age 65 in a given county. It is the sum of original variables 'AMPKE044', 'AMPKE045', 'AMPKE046', 'AMPKE047', 'AMPKE048', and 'AMPKE049'.\n",
        "\n",
        "- income_under_30000 \\\n",
        "  This variable is the number of people with income under $30,000 in a given county. It is the sum of original variables 'AMR7E002', 'AMR7E003', 'AMR7E004', 'AMR7E005', and 'AMR7E006'.\n",
        "\n",
        "- income_30000_to_49999 \\\n",
        "  This variable is the number of people with income between $30,000 and $49,999 in a given county. It is the sum of original variables 'AMR7E007', 'AMR7E008', 'AMR7E009', and 'AMR7E009'.\n",
        "\n",
        "- income_50000_to_99999 \\\n",
        "  This variable is the number of people with income between $50,000 and $99,999 in a given county. It is the sum of original variables 'AMR7E011', 'AMR7E012', and 'AMR7E013'.\n",
        "\n",
        "- income_100000_plus \\\n",
        "  This variable is the number of people with income over $100,000 in a given county. It is the sum of original variables 'AMR7E014', 'AMR7E015', 'AMR7E016', and 'AMR7E017'.\n",
        "\n"
      ],
      "metadata": {
        "id": "gk2ANxqsRtpf"
      }
    },
    {
      "cell_type": "markdown",
      "source": [
        "###Results\n",
        "Two to five pages providing visualizations, statistics, tables, a discussion of your methodology, and a presentation of your main results. In particular, how are you approaching the prediction problem? How confident are you about your assessments that counties will support one party or the other?\n",
        "\n",
        "Methodology\n",
        "\n",
        "Visualizations\n",
        "\n",
        "Statistics / Tables\n",
        "\n",
        "Main Results\n"
      ],
      "metadata": {
        "id": "xHZcKMetRu3O"
      }
    },
    {
      "cell_type": "markdown",
      "source": [
        "###Conclusion\n",
        "One to two pages summarizing the project, defending it from criticism, and suggesting additional work that was outside the scope of the project.\n"
      ],
      "metadata": {
        "id": "Pfm4t_JHRwVP"
      }
    },
    {
      "cell_type": "markdown",
      "source": [
        "###Appendix\n",
        "\n",
        "If you have a significant number of additional plots or table that you feel are essential to the project, you can put any amount of extra content at the end and reference it from the body of the paper.\n",
        "\n",
        "The following data was cleaned but not included in the final model.\n",
        "\n",
        "First, the County Adjacencies Data (clean_cdf.csv) outlines all neighbors, districts, FIPS county identifiers, and populations in 2022 for all counties and cities in Virginia. Here, the only cleaning done was that the county names were capitalized in order to match with the county names to voting dataset. Second, the data was found on Presidential election by county throughout the entire United States (county_presidential_returns_2000-2020.csv). This dataset could be useful for looking at other counties in the United States and comparing their composition and voting patterns to the counties in Virginia. This data was similarly cleaned by dropping third parties and dropping spaces from the county names."
      ],
      "metadata": {
        "id": "wTLWTmGiRxxO"
      }
    },
    {
      "cell_type": "code",
      "source": [],
      "metadata": {
        "id": "axJ68LorRtIB"
      },
      "execution_count": null,
      "outputs": []
    },
    {
      "cell_type": "code",
      "execution_count": null,
      "metadata": {
        "id": "YxrgWIcwQ_8G"
      },
      "outputs": [],
      "source": []
    }
  ]
}