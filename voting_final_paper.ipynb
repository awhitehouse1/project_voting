{
  "nbformat": 4,
  "nbformat_minor": 0,
  "metadata": {
    "colab": {
      "provenance": [],
      "authorship_tag": "ABX9TyNA0QVzqAtOCASiLsVgj54U",
      "include_colab_link": true
    },
    "kernelspec": {
      "name": "python3",
      "display_name": "Python 3"
    },
    "language_info": {
      "name": "python"
    }
  },
  "cells": [
    {
      "cell_type": "markdown",
      "metadata": {
        "id": "view-in-github",
        "colab_type": "text"
      },
      "source": [
        "<a href=\"https://colab.research.google.com/github/awhitehouse1/project_voting/blob/main/voting_final_paper.ipynb\" target=\"_parent\"><img src=\"https://colab.research.google.com/assets/colab-badge.svg\" alt=\"Open In Colab\"/></a>"
      ]
    },
    {
      "cell_type": "markdown",
      "source": [
        "#Voting Project\n",
        "\n",
        "##Eleanor Byrd, Kian Putnam, Ashley Whitehouse"
      ],
      "metadata": {
        "id": "_MoY_nTXRZ0i"
      }
    },
    {
      "cell_type": "markdown",
      "source": [
        "###Summary\n",
        "\n",
        "A one paragraph description of the question, methods, and results (about 350 words).\n"
      ],
      "metadata": {
        "id": "rHzjroXDRlbJ"
      }
    },
    {
      "cell_type": "markdown",
      "source": [
        "###Data\n",
        "\n",
        "One to two pages discussing the data and key variables, and any challenges in reading, cleaning, and preparing them for analysis.\n",
        "\n",
        "\n",
        "Voting Data\n",
        "- all datatypes were good\n",
        "- dropped third parties\n",
        "- dropped spaces from county names in order to match county names in county_adjacencies dataset\n",
        "\n",
        "County Adjacencies Data\n",
        "- capitalize county names in order to match county names to voting dataset\n",
        "\n",
        "NHGIS County data for 2016 to 2020\n",
        "- National Historical Geographic Information System\n",
        "- cleaned age and income data\n",
        "- population of each county within each group\n",
        "- made county names match\n",
        "\n",
        "Presidential Election Data by County throughout the United States\n",
        "- drop third parties\n",
        "- made county names match\n"
      ],
      "metadata": {
        "id": "gk2ANxqsRtpf"
      }
    },
    {
      "cell_type": "markdown",
      "source": [
        "###Results\n",
        "Two to five pages providing visualizations, statistics, tables, a discussion of your methodology, and a presentation of your main results. In particular, how are you approaching the prediction problem? How confident are you about your assessments that counties will support one party or the other?\n",
        "\n",
        "Methodology\n",
        "\n",
        "Visualizations\n",
        "\n",
        "Statistics / Tables\n",
        "\n",
        "Main Results\n"
      ],
      "metadata": {
        "id": "xHZcKMetRu3O"
      }
    },
    {
      "cell_type": "markdown",
      "source": [
        "###Conclusion\n",
        "One to two pages summarizing the project, defending it from criticism, and suggesting additional work that was outside the scope of the project.\n"
      ],
      "metadata": {
        "id": "Pfm4t_JHRwVP"
      }
    },
    {
      "cell_type": "markdown",
      "source": [
        "###Appendix\n",
        "\n",
        "If you have a significant number of additional plots or table that you feel are essential to the project, you can put any amount of extra content at the end and reference it from the body of the paper."
      ],
      "metadata": {
        "id": "wTLWTmGiRxxO"
      }
    },
    {
      "cell_type": "code",
      "source": [],
      "metadata": {
        "id": "axJ68LorRtIB"
      },
      "execution_count": null,
      "outputs": []
    },
    {
      "cell_type": "code",
      "execution_count": null,
      "metadata": {
        "id": "YxrgWIcwQ_8G"
      },
      "outputs": [],
      "source": []
    }
  ]
}